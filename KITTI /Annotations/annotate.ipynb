{
 "cells": [
  {
   "cell_type": "code",
   "execution_count": 12,
   "id": "39765b29-d1fb-4c13-8f1d-764edb976239",
   "metadata": {
    "scrolled": true
   },
   "outputs": [
    {
     "name": "stdout",
     "output_type": "stream",
     "text": [
      "Requirement already satisfied: pillow in c:\\users\\cim-security\\miniconda3\\lib\\site-packages (10.4.0)\n",
      "Note: you may need to restart the kernel to use updated packages.\n"
     ]
    }
   ],
   "source": [
    "pip install pillow"
   ]
  },
  {
   "cell_type": "code",
   "execution_count": 13,
   "id": "616711fe-c218-4aac-90a7-5f45776d4400",
   "metadata": {},
   "outputs": [
    {
     "name": "stdout",
     "output_type": "stream",
     "text": [
      "Annotations saved to C:/Users/cim-security/Desktop/Obj/Low_lit/annotate/annotations.json\n"
     ]
    }
   ],
   "source": [
    "import os\n",
    "import json\n",
    "from PIL import Image\n",
    "\n",
    "# Define paths\n",
    "images_folder = 'C:/Users/cim-security/Desktop/Obj/Low_lit/images'\n",
    "labels_folder = 'C:/Users/cim-security/Desktop/Obj/Low_lit/Label'\n",
    "output_file = 'C:/Users/cim-security/Desktop/Obj/Low_lit/annotate/annotations.json'\n",
    "\n",
    "# Initialize COCO format data\n",
    "coco_format = {\n",
    "    'images': [],\n",
    "    'annotations': [],\n",
    "    'categories': [{'id': i + 1, 'name': name} for i, name in enumerate(class_names)]\n",
    "}\n",
    "\n",
    "annotation_id = 1\n",
    "\n",
    "for image_file in os.listdir(images_folder):\n",
    "    if image_file.endswith(('jpg', 'jpeg', 'png')):\n",
    "        image_path = os.path.join(images_folder, image_file)\n",
    "        label_path = os.path.join(labels_folder, image_file.replace('.jpg', '.txt').replace('.png', '.txt'))\n",
    "\n",
    "        # Load image\n",
    "        with Image.open(image_path) as img:\n",
    "            width, height = img.size\n",
    "\n",
    "        # Add image entry\n",
    "        coco_format['images'].append({\n",
    "            'id': len(coco_format['images']) + 1,\n",
    "            'file_name': image_file,\n",
    "            'width': width,\n",
    "            'height': height\n",
    "        })\n",
    "\n",
    "        # Read and parse label file\n",
    "        if os.path.exists(label_path):\n",
    "            with open(label_path, 'r') as f:\n",
    "                for line in f:\n",
    "                    parts = line.strip().split()\n",
    "                    class_name = parts[0]\n",
    "                    if class_name in class_id_map:\n",
    "                        # Skip 'Misc' and 'DontCare' if they should not be included\n",
    "                        if class_name in ['Misc', 'DontCare']:\n",
    "                            continue\n",
    "\n",
    "                        class_id = class_id_map[class_name]\n",
    "                        # Parse bounding box coordinates (example format: x_center, y_center, width, height)\n",
    "                        x_center, y_center, w, h = map(float, parts[1:])\n",
    "                        # Convert to [x, y, width, height] format\n",
    "                        x = x_center - (w / 2)\n",
    "                        y = y_center - (h / 2)\n",
    "\n",
    "                        coco_format['annotations'].append({\n",
    "                            'id': annotation_id,\n",
    "                            'image_id': len(coco_format['images']),\n",
    "                            'category_id': class_id,\n",
    "                            'bbox': [x, y, w, h],\n",
    "                            'area': w * h,\n",
    "                            'iscrowd': 0\n",
    "                        })\n",
    "\n",
    "                        annotation_id += 1\n",
    "                    else:\n",
    "                        print(f\"Warning: Class name '{class_name}' not found in class_id_map\")\n",
    "\n",
    "# Save to JSON file\n",
    "with open(output_file, 'w') as f:\n",
    "    json.dump(coco_format, f, indent=4)\n",
    "\n",
    "print(f'Annotations saved to {output_file}')"
   ]
  },
  {
   "cell_type": "code",
   "execution_count": null,
   "id": "422d64ed-a424-4cd6-b6a5-d6ab308439ab",
   "metadata": {},
   "outputs": [],
   "source": []
  }
 ],
 "metadata": {
  "kernelspec": {
   "display_name": "Python 3",
   "language": "python",
   "name": "python3"
  },
  "language_info": {
   "codemirror_mode": {
    "name": "ipython",
    "version": 3
   },
   "file_extension": ".py",
   "mimetype": "text/x-python",
   "name": "python",
   "nbconvert_exporter": "python",
   "pygments_lexer": "ipython3",
   "version": "3.6.13"
  }
 },
 "nbformat": 4,
 "nbformat_minor": 5
}
